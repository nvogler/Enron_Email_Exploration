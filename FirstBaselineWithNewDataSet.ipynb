{
 "cells": [
  {
   "cell_type": "code",
   "execution_count": 1,
   "metadata": {},
   "outputs": [],
   "source": [
    "import pandas as pd\n",
    "import bson"
   ]
  },
  {
   "cell_type": "markdown",
   "metadata": {},
   "source": [
    "##### Entities"
   ]
  },
  {
   "cell_type": "code",
   "execution_count": 2,
   "metadata": {},
   "outputs": [],
   "source": [
    "with open('entities.bson','rb') as f:\n",
    "    ent_data = bson.decode_all(f.read())"
   ]
  },
  {
   "cell_type": "code",
   "execution_count": 3,
   "metadata": {},
   "outputs": [
    {
     "name": "stdout",
     "output_type": "stream",
     "text": [
      "95941\n"
     ]
    },
    {
     "data": {
      "text/plain": [
       "'NonCore'"
      ]
     },
     "execution_count": 3,
     "metadata": {},
     "output_type": "execute_result"
    }
   ],
   "source": [
    "print (len(ent_data))\n",
    "ent_data[0]['affiliation']"
   ]
  },
  {
   "cell_type": "code",
   "execution_count": 4,
   "metadata": {},
   "outputs": [
    {
     "name": "stdout",
     "output_type": "stream",
     "text": [
      "74633\n",
      "21308\n",
      "18091\n"
     ]
    }
   ],
   "source": [
    "enron_employee_jt_map = {}\n",
    "i = 0\n",
    "for entry in ent_data:\n",
    "    try:\n",
    "        handle = entry['email_address'].split('@')[0].split('.')\n",
    "        # First.Last\n",
    "        if len(handle) == 2:\n",
    "            last = handle[1]\n",
    "            first = handle[0]            \n",
    "        # Middle.First.Last\n",
    "        elif len(handle) == 3:\n",
    "            last = handle[2]\n",
    "            first = handle[1]\n",
    "            \n",
    "        job_title_name_format = last + '-' + first[0]\n",
    "        enron_employee_jt_map[entry['uid']] = job_title_name_format.lower()\n",
    "    except:\n",
    "        i += 1\n",
    "print (i)\n",
    "print (len(enron_employee_jt_map.keys()))\n",
    "\n",
    "# Converge eliminating duplicates\n",
    "temp_ = {v:k for k,v in enron_employee_jt_map.items()}\n",
    "enron_employee_jt_map = {v:k for k,v in temp_.items()}\n",
    "\n",
    "print (len(enron_employee_jt_map.keys()))"
   ]
  },
  {
   "cell_type": "code",
   "execution_count": 5,
   "metadata": {},
   "outputs": [],
   "source": [
    "# Parse Job Titles Dataset\n",
    "jt_dict = {}\n",
    "with open('enron_data.html', 'r') as file_:\n",
    "    for line in file_.readlines():\n",
    "        if line != '':\n",
    "            # ID UID FName LName Rank\n",
    "            details = line.split()\n",
    "            uid = details[1]\n",
    "            rank = ' '.join(details[4:])\n",
    "            jt_dict[uid] = rank"
   ]
  },
  {
   "cell_type": "code",
   "execution_count": 6,
   "metadata": {},
   "outputs": [],
   "source": [
    "enron_employees_known_jts = {}\n",
    "for employee in enron_employee_jt_map:\n",
    "    try:\n",
    "        enron_employees_known_jts[employee] = jt_dict[enron_employee_jt_map[employee].lower()]\n",
    "    except:\n",
    "        None"
   ]
  },
  {
   "cell_type": "code",
   "execution_count": 7,
   "metadata": {},
   "outputs": [
    {
     "name": "stdout",
     "output_type": "stream",
     "text": [
      "sanders-r Vice President Enron WholeSale Services\n",
      "shapiro-r Vice President Regulatory Affairs\n",
      "hayslett-r Vice President Also Chief Financial Officer and Treasurer\n",
      "slinger-r Trader\n",
      "horton-s President Enron Gas Pipeline\n",
      "beck-s Employee Chief Operating Officer\n",
      "brawner-s Director\n",
      "shackleton-s N/A\n",
      "harris-s N/A\n",
      "neal-s Vice President\n",
      "white-s N/A\n",
      "corman-s Vice President Regulatory Affairs\n",
      "scott-s N/A\n",
      "bailey-s N/A\n",
      "panus-s Employee\n",
      "merriss-s N/A Specialist\n",
      "pereira-s Employee\n",
      "jones-t N/A\n",
      "martin-t Vice President\n",
      "kaminski-v Manager Risk Management Head\n",
      "gay-r N/A\n",
      "sturm-f Vice President\n",
      "forney-j Manager Real time Trading Desk\n",
      "lokey-t Manager Regulatory Affairs\n",
      "solberg-g Employee\n",
      "storey-g Director\n",
      "nemec-g N/A\n",
      "guzman-m Trader\n",
      "buy-r Manager Chief Risk Management Officer\n",
      "swerzbin-m Trader\n",
      "shively-h Vice President\n",
      "derrick-j In House Lawyer\n",
      "lavorato-j CEO Enron America\n",
      "shankman-j President Enron Global Mkts\n",
      "skilling-j CEO\n",
      "williams-j N/A Trading\n",
      "griffith-j Managing Director MD of UK\n",
      "tholt-j Vice President\n",
      "steffes-j Vice President Government Affairs\n",
      "arnold-j Vice President\n",
      "wolfe-j N/A\n",
      "king-j Manager\n",
      "dasovich-j Employee Government Relation Executive\n",
      "hodge-j Managing Director\n",
      "zufferli-j Employee\n",
      "schwieger-j Trader\n",
      "parks-j N/A\n",
      "stepenovitch-j Vice President Enery marketting and trading Florida\n",
      "mckay-j Director\n",
      "townsend-j Employee\n",
      "hernandez-j N/A\n",
      "lay-k CEO\n",
      "presto-k Vice President\n",
      "mann-k Employee\n",
      "ward-k N/A\n",
      "hyatt-k Director Pipeline Business\n",
      "ruscitti-k Trader\n",
      "watson-k N/A\n",
      "campbell-l N/A\n",
      "may-l Director\n",
      "smith-m N/A\n",
      "taylor-m Employee\n",
      "carson-m Employee\n",
      "cuilla-m Manager\n",
      "motley-m Director\n",
      "lenhart-m Employee\n",
      "maggi-m Director\n",
      "sanchez-m N/A\n",
      "lokay-m Employee Administrative Asisstant\n",
      "cash-m N/A\n",
      "mcconnell-m N/A\n",
      "keavey-p Employee\n",
      "allen-p N/A\n",
      "ybarbo-p N/A\n",
      "platter-p Employee Sr.Specialist\n",
      "mccarty-d Vice President\n",
      "whitt-m N/A\n",
      "staab-t Employee\n",
      "richey-c Manager\n",
      "fischer-m Employee\n",
      "rapp-b N/A\n",
      "salisbury-h Employee Cash Analyst\n",
      "badeer-r Director\n",
      "holst-k Director\n",
      "schoolcraft-d N/A\n",
      "fossum-d Vice President\n",
      "ring-a N/A\n",
      "hain-m In House Lawyer\n",
      "pimenov-v N/A\n",
      "zipper-a Vice President Enron Online\n",
      "davis-d N/A\n",
      "lewis-a Director\n",
      "symes-k Employee\n",
      "rogers-b N/A\n",
      "dean-c Trader\n",
      "germany-c Employee\n",
      "ring-r Employee\n",
      "reitmeyer-j Employee\n",
      "hendrickson-s N/A\n",
      "dorland-c Employee\n",
      "farmer-d Manager Logistics Manager\n",
      "whalley-g Whalley President\n",
      "giron-d Employee\n",
      "quenet-j Trader\n",
      "saibi-e Trader\n",
      "perlingiere-d N/A\n",
      "scholtes-d Trader\n",
      "baughman-d Trader\n",
      "gilbertsmith-d Manager\n",
      "quigley-d N/A\n",
      "linder-e N/A Specialist\n",
      "heard-m N/A\n",
      "rodrigue-r N/A\n"
     ]
    }
   ],
   "source": [
    "for emp in enron_employees_known_jts:\n",
    "    print (enron_employee_jt_map[emp] + \" \" + enron_employees_known_jts[emp])"
   ]
  },
  {
   "cell_type": "markdown",
   "metadata": {},
   "source": [
    "enron_employees_known_jts\n",
    "[employee_uid] [last-fi]\n",
    "\n",
    "enron_employees_known_jts\n",
    "[employee_uid] [job title]"
   ]
  },
  {
   "cell_type": "code",
   "execution_count": null,
   "metadata": {},
   "outputs": [],
   "source": []
  },
  {
   "cell_type": "code",
   "execution_count": 8,
   "metadata": {},
   "outputs": [
    {
     "name": "stdout",
     "output_type": "stream",
     "text": [
      "51430\n",
      "9501\n"
     ]
    }
   ],
   "source": [
    "enron_employee_uid_set = set([])\n",
    "i = 0\n",
    "for entry in ent_data:\n",
    "    try:\n",
    "        if entry['affiliation'] != 'NonEnron':\n",
    "            enron_employee_uid_set.add(entry['uid'])\n",
    "    except:\n",
    "        i += 1\n",
    "print (i)\n",
    "print (len(enron_employee_uid_set))"
   ]
  },
  {
   "cell_type": "markdown",
   "metadata": {},
   "source": [
    "##### Emails"
   ]
  },
  {
   "cell_type": "code",
   "execution_count": 9,
   "metadata": {},
   "outputs": [],
   "source": [
    "with open('emails.bson','rb') as f:\n",
    "    email_data = bson.decode_all(f.read())"
   ]
  },
  {
   "cell_type": "code",
   "execution_count": 10,
   "metadata": {},
   "outputs": [
    {
     "name": "stdout",
     "output_type": "stream",
     "text": [
      "276279\n"
     ]
    },
    {
     "data": {
      "text/plain": [
       "dict_keys(['_id', '_cls', '_types', 'annotations', 'body', 'cc', 'corresponding_files', 'from', 'header_info', 'is_bubble', 'message_type', 'recipients', 'subject', 'text_chunks', 'to', 'uid'])"
      ]
     },
     "execution_count": 10,
     "metadata": {},
     "output_type": "execute_result"
    }
   ],
   "source": [
    "print (len(email_data))\n",
    "email_data[0].keys()"
   ]
  },
  {
   "cell_type": "code",
   "execution_count": 23,
   "metadata": {},
   "outputs": [
    {
     "name": "stdout",
     "output_type": "stream",
     "text": [
      "44820\n",
      "34233\n"
     ]
    }
   ],
   "source": [
    "email_data_subset = set([])\n",
    "enron_employee_emails_set = set([])\n",
    "i = 0\n",
    "for email in email_data:\n",
    "    try:\n",
    "        if email['from'] in enron_employee_uid_set:\n",
    "            for to_id in email['to']:\n",
    "                if to_id in enron_employee_uid_set:\n",
    "                    enron_employee_emails_set.add(email['uid'])\n",
    "                    #email_data_subset.add([email['to'], email['from'], email['body']])\n",
    "                    break\n",
    "    except:\n",
    "        i += 1\n",
    "print (i)\n",
    "print (len(enron_employee_emails_set))"
   ]
  },
  {
   "cell_type": "code",
   "execution_count": 24,
   "metadata": {},
   "outputs": [],
   "source": [
    "#with open('threads.bson','rb') as f:\n",
    "#    thread_data = bson.decode_all(f.read())"
   ]
  },
  {
   "cell_type": "code",
   "execution_count": 25,
   "metadata": {},
   "outputs": [],
   "source": [
    "#thread_data[4]"
   ]
  },
  {
   "cell_type": "code",
   "execution_count": 26,
   "metadata": {},
   "outputs": [],
   "source": [
    "# CEO = 0\n",
    "# C-Suite = 0\n",
    "c_count = 0\n",
    "# President = 1\n",
    "p_count = 0\n",
    "# VP = 2\n",
    "vp_count = 0\n",
    "# Director = 3\n",
    "d_count = 0\n",
    "# IHL = 4\n",
    "ihl_count = 0\n",
    "# Manager = 5\n",
    "m_count = 0\n",
    "# Trader / Specialist = 6\n",
    "ts_count = 0\n",
    "# Employee / NA = 7\n",
    "e_count = 0\n",
    "\n",
    "# UID -> Rank\n",
    "employee_rank = {}\n",
    "\n",
    "for rank in jt_dict.keys():\n",
    "    raw_rank = jt_dict[rank]\n",
    "    if raw_rank.find('CEO') != -1:\n",
    "        #print (jt_dict[rank])\n",
    "        #print (rank)\n",
    "        employee_rank[rank] = 0\n",
    "        c_count += 1\n",
    "    elif raw_rank.find('Chief') != -1:\n",
    "        #print (jt_dict[rank])\n",
    "        #print (rank)\n",
    "        employee_rank[rank] = 0\n",
    "        c_count += 1\n",
    "    elif raw_rank.find('Vice') != -1:\n",
    "        #print (jt_dict[rank])\n",
    "        #print (rank)\n",
    "        employee_rank[rank] = 2\n",
    "        vp_count += 1\n",
    "    elif raw_rank.find('President') != -1:\n",
    "        #print (jt_dict[rank])\n",
    "        #print (rank)\n",
    "        employee_rank[rank] = 1\n",
    "        p_count += 1\n",
    "    elif raw_rank.find('Director') != -1:\n",
    "        #print (jt_dict[rank])\n",
    "        #print (rank)\n",
    "        employee_rank[rank] = 3\n",
    "        d_count += 1\n",
    "    elif raw_rank.find('Lawyer') != -1:\n",
    "        #print (jt_dict[rank])\n",
    "        #print (rank)\n",
    "        employee_rank[rank] = 4\n",
    "        ihl_count += 1\n",
    "    elif raw_rank.find('Manager') != -1:\n",
    "        #print (jt_dict[rank])\n",
    "        #print (rank)\n",
    "        employee_rank[rank] = 5\n",
    "        m_count += 1\n",
    "    elif raw_rank.find('Trader') != -1:\n",
    "        #print (jt_dict[rank])\n",
    "        #print (rank)\n",
    "        employee_rank[rank] = 6\n",
    "        ts_count += 1\n",
    "    elif raw_rank.find('Specialist') != -1:\n",
    "        #print (jt_dict[rank])\n",
    "        #print (rank)\n",
    "        employee_rank[rank] = 6\n",
    "        ts_count += 1\n",
    "    else:\n",
    "        #print (jt_dict[rank])\n",
    "        #print (rank)\n",
    "        employee_rank[rank] = 7\n",
    "        e_count += 1        "
   ]
  },
  {
   "cell_type": "code",
   "execution_count": 27,
   "metadata": {},
   "outputs": [
    {
     "name": "stdout",
     "output_type": "stream",
     "text": [
      "C Level: 8\n",
      "Presidents: 4\n",
      "VPs: 17\n",
      "Directors: 16\n",
      "In-House Lawyers: 3\n",
      "Managers: 9\n",
      "T/Ss: 16\n",
      "Es: 75\n"
     ]
    }
   ],
   "source": [
    "print ('C Level: ' + str(c_count))\n",
    "print ('Presidents: ' + str(p_count))\n",
    "print ('VPs: ' + str(vp_count))\n",
    "print ('Directors: ' + str(d_count))\n",
    "print ('In-House Lawyers: ' + str(ihl_count))\n",
    "print ('Managers: ' + str(m_count))\n",
    "print ('T/Ss: ' + str(ts_count))\n",
    "print ('Es: ' + str(e_count))"
   ]
  },
  {
   "cell_type": "code",
   "execution_count": 41,
   "metadata": {},
   "outputs": [],
   "source": [
    "scrap_email_uids = set([])\n",
    "for email in email_data:\n",
    "    if email['uid'] in enron_employee_emails_set:\n",
    "        if email['body'].find(\"TR Daily\") != -1:\n",
    "            scrap_email_uids.add(email['uid'])"
   ]
  },
  {
   "cell_type": "code",
   "execution_count": 52,
   "metadata": {},
   "outputs": [
    {
     "data": {
      "text/plain": [
       "14"
      ]
     },
     "execution_count": 52,
     "metadata": {},
     "output_type": "execute_result"
    }
   ],
   "source": [
    "len(scrap_email_uids)"
   ]
  },
  {
   "cell_type": "code",
   "execution_count": 146,
   "metadata": {
    "scrolled": false
   },
   "outputs": [],
   "source": [
    "i = 0\n",
    "from collections import defaultdict\n",
    "\n",
    "#[(from_, to_)] = concat(subject + body) \n",
    "relationship_content = defaultdict(str)\n",
    "conversation_count = defaultdict(int)\n",
    "\n",
    "senders_set = set([])\n",
    "receivers_set = set([])\n",
    "\n",
    "senders_count = defaultdict(int)\n",
    "receivers_count = defaultdict(int)\n",
    "\n",
    "for email in email_data:\n",
    "    to_, from_, subject_, body_ = \"\", \"\", \"\", \"\"\n",
    "    if email['uid'] in enron_employee_emails_set and email['uid'] not in scrap_email_uids:\n",
    "        # Extract 'to', 'from' addresses, exlucude mass e-mails\n",
    "        to_ = email['to']\n",
    "        if len(to_) > 3:\n",
    "            next\n",
    "            \n",
    "        from_ = email['from']\n",
    "        # Extract subject/body\n",
    "        content_bool = False\n",
    "        try:\n",
    "            subject_ = email['subject']\n",
    "            content_bool = True\n",
    "        except:\n",
    "            pass\n",
    "        \n",
    "        try:\n",
    "            body_ = email['body']\n",
    "            content_bool = True\n",
    "        except:\n",
    "            pass\n",
    "        \n",
    "        if not content_bool:\n",
    "            next\n",
    "            \n",
    "        for address in to_:\n",
    "            if address != from_ and from_ in enron_employees_known_jts and address in enron_employees_known_jts:\n",
    "                senders_set.add(from_)\n",
    "                senders_count[from_] += 1\n",
    "                \n",
    "                receivers_set.add(address)\n",
    "                receivers_count[address] += 1\n",
    "                \n",
    "                relationship_content[((from_, address))] += subject_ + \" \" + body_\n",
    "                conversation_count[((from_, address))] += 1\n",
    "        \n",
    "        ## For Testing \n",
    "        #i +=1\n",
    "        #if i > 10: break\n",
    "        \n",
    "        # Create relationship (of not already)\n",
    "        \n",
    "        # add body to existing\n",
    "#print (email_data[2]['body'])      "
   ]
  },
  {
   "cell_type": "code",
   "execution_count": 147,
   "metadata": {},
   "outputs": [
    {
     "name": "stdout",
     "output_type": "stream",
     "text": [
      "Total relationships: 55\n",
      "Avg char. count of content: 9211.09090909091\n",
      "\n",
      "Total e-mails sent: 427\n",
      "Avg convo. count per relationship: 7.763636363636364\n",
      "\n",
      "Total senders: 10\n",
      "Total receivers: 38\n"
     ]
    }
   ],
   "source": [
    "total_length = len(relationship_content.keys())\n",
    "total_count = 0\n",
    "convos_count = 0\n",
    "\n",
    "for c_ in conversation_count:\n",
    "    convos_count += conversation_count[c_]\n",
    "\n",
    "for rc in relationship_content:\n",
    "    total_count += len(relationship_content[rc])\n",
    "    \n",
    "print (\"Total relationships: \" + str(total_length))\n",
    "print (\"Avg char. count of content: \" + str(total_count / total_length))\n",
    "\n",
    "print (\"\\nTotal e-mails sent: \" + str(convos_count))\n",
    "print (\"Avg convo. count per relationship: \" + str(convos_count / total_length))\n",
    "\n",
    "print (\"\\nTotal senders: \" + str(len(senders_set)))\n",
    "print (\"Total receivers: \" + str(len(receivers_set)))"
   ]
  },
  {
   "cell_type": "code",
   "execution_count": null,
   "metadata": {},
   "outputs": [],
   "source": [
    "print (\"\\nTop senders: \")\n",
    "for sender in sorted(senders_count, key=senders_count.get, reverse=True)[:5]:\n",
    "    print (\"\\n\\tTitle: \" + str(enron_employees_known_jts[sender]))\n",
    "    print (\"\\tName: \" + str(enron_employee_jt_map[sender]))\n",
    "    print (\"\\t# Sent: \" + str(senders_count[sender]))\n",
    "    print (\"\\t# Received: \" + str(receivers_count[sender]))\n",
    "    \n",
    "print (\"\\nTop receivers: \")\n",
    "for receiver in sorted(receivers_count, key=receivers_count.get, reverse=True)[:5]:\n",
    "    print (\"\\n\\tTitle: \" + str(enron_employees_known_jts[receiver]))\n",
    "    print (\"\\tName: \" + str(enron_employee_jt_map[receiver]))\n",
    "    print (\"\\t# Sent: \" + str(senders_count[sender]))\n",
    "    print (\"\\t# Received: \" + str(receivers_count[receiver]))\n",
    "#newA = \n",
    "#newA"
   ]
  },
  {
   "cell_type": "code",
   "execution_count": 173,
   "metadata": {},
   "outputs": [
    {
     "data": {
      "text/plain": [
       "[144, 118, 72, 27, 25]"
      ]
     },
     "execution_count": 173,
     "metadata": {},
     "output_type": "execute_result"
    }
   ],
   "source": [
    "[senders_count[sender] for sender in sorted(senders_count, key=senders_count.get, reverse=True)[:5]]\n"
   ]
  },
  {
   "cell_type": "code",
   "execution_count": 210,
   "metadata": {},
   "outputs": [
    {
     "data": {
      "image/png": "[encoded data removed]",
      "text/plain": [
       "<Figure size 432x288 with 1 Axes>"
      ]
     },
     "metadata": {},
     "output_type": "display_data"
    }
   ],
   "source": [
    "import numpy as np\n",
    "import matplotlib.pyplot as plt\n",
    "\n",
    "N = 5\n",
    "ind = np.arange(N)  # the x locations for the groups\n",
    "width = 0.25       # the width of the bars\n",
    "\n",
    "fig = plt.figure()\n",
    "fig.suptitle('Top 5 By Sender', fontsize=14)\n",
    "ax = fig.add_subplot(111)\n",
    "\n",
    "yvals = [senders_count[sender] for sender in sorted(senders_count, key=senders_count.get, reverse=True)[:5]]\n",
    "sent_ = ax.bar(ind, yvals, width, color='saddlebrown')\n",
    "zvals = [receivers_count[receiver] for receiver in sorted(senders_count, key=senders_count.get, reverse=True)[:5]]\n",
    "recvd_ = ax.bar(ind+width*1.1, zvals, width, color='silver')\n",
    "\n",
    "ax.set_ylabel('E-Mail Count')\n",
    "ax.set_xlabel('Employee')\n",
    "ax.set_xticks(ind+width)\n",
    "ax.set_xticklabels( array([enron_employee_jt_map[sender] for sender in sorted(senders_count, key=senders_count.get, reverse=True)[:5]])\n",
    ")\n",
    "ax.legend( (\"Sent\", \"Received\", ('y', 'z') ))\n",
    "\n",
    "def autolabel(rects):\n",
    "    for rect in rects:\n",
    "        h = rect.get_height()\n",
    "        ax.text(rect.get_x()+rect.get_width()/2., 1.*h, '%d'%int(h),\n",
    "                ha='center', va='bottom')\n",
    "\n",
    "autolabel(sent_)\n",
    "autolabel(recvd_)\n",
    "\n",
    "plt.show()"
   ]
  },
  {
   "cell_type": "code",
   "execution_count": 211,
   "metadata": {},
   "outputs": [
    {
     "data": {
      "image/png": "[encoded data removed]",
      "text/plain": [
       "<Figure size 432x288 with 1 Axes>"
      ]
     },
     "metadata": {},
     "output_type": "display_data"
    }
   ],
   "source": [
    "import numpy as np\n",
    "import matplotlib.pyplot as plt\n",
    "\n",
    "N = 5\n",
    "ind = np.arange(N)  # the x locations for the groups\n",
    "width = 0.25       # the width of the bars\n",
    "\n",
    "fig = plt.figure()\n",
    "fig.suptitle('Top 5 By Receiver', fontsize=14)\n",
    "ax = fig.add_subplot(111)\n",
    "\n",
    "yvals = [senders_count[sender] for sender in sorted(receivers_count, key=receivers_count.get, reverse=True)[:5]]\n",
    "sent_ = ax.bar(ind, yvals, width, color='saddlebrown')\n",
    "zvals = [receivers_count[receiver] for receiver in sorted(receivers_count, key=receivers_count.get, reverse=True)[:5]]\n",
    "recvd_ = ax.bar(ind+width*1.1, zvals, width, color='silver')\n",
    "\n",
    "ax.set_ylabel('E-Mail Count')\n",
    "ax.set_xlabel('Employee')\n",
    "ax.set_xticks(ind+width)\n",
    "ax.set_xticklabels( array([enron_employee_jt_map[receiver] for receiver in sorted(receivers_count, key=receivers_count.get, reverse=True)[:5]])\n",
    ")\n",
    "ax.legend( (\"Sent\", \"Received\", ('y', 'z') ))\n",
    "\n",
    "def autolabel(rects):\n",
    "    for rect in rects:\n",
    "        h = rect.get_height()\n",
    "        ax.text(rect.get_x()+rect.get_width()/2., 1.*h, '%d'%int(h),\n",
    "                ha='center', va='bottom')\n",
    "\n",
    "autolabel(sent_)\n",
    "autolabel(recvd_)\n",
    "\n",
    "plt.show()"
   ]
  },
  {
   "cell_type": "code",
   "execution_count": null,
   "metadata": {},
   "outputs": [],
   "source": [
    "# Convert to label -> text\n",
    "pre_prep_format = []\n",
    "u_count = 0\n",
    "nu_count = 0\n",
    "\n",
    "for key in relationship_content.keys():\n",
    "    from_, to_ = key\n",
    "    print (from_)"
   ]
  },
  {
   "cell_type": "code",
   "execution_count": 247,
   "metadata": {},
   "outputs": [],
   "source": [
    "# Convert to label -> text\n",
    "pre_prep_format = []\n",
    "u_count = 0\n",
    "nu_count = 0\n",
    "n_count = 0\n",
    "for key in relationship_content.keys():\n",
    "    from_, to_ = key\n",
    "    f_rank = employee_rank[enron_employee_jt_map[from_]]\n",
    "    t_rank = employee_rank[enron_employee_jt_map[to_]]\n",
    "    \n",
    "    if f_rank < t_rank:\n",
    "        pre_prep_format.append(('upward', relationship_content[key]))\n",
    "        u_count += 1\n",
    "    elif f_rank > t_rank:\n",
    "        nu_count += 1\n",
    "        pre_prep_format.append(('not-upward', relationship_content[key]))\n",
    "    #else:\n",
    "    #    n_count += 1\n",
    "    #    pre_prep_format.append(('neutral', relationship_content[key]))"
   ]
  },
  {
   "cell_type": "code",
   "execution_count": 248,
   "metadata": {},
   "outputs": [
    {
     "name": "stdout",
     "output_type": "stream",
     "text": [
      "Total messages: 44\n",
      "Upward messages: 37\n",
      "Not-upward messages: 7\n",
      "Neutral messages: 0\n"
     ]
    }
   ],
   "source": [
    "print (\"Total messages: \" + str(len(pre_prep_format)))\n",
    "print (\"Upward messages: \" + str(u_count))\n",
    "print (\"Not-upward messages: \" + str(nu_count))\n",
    "print (\"Neutral messages: \" + str(n_count))"
   ]
  },
  {
   "cell_type": "code",
   "execution_count": 249,
   "metadata": {},
   "outputs": [
    {
     "name": "stdout",
     "output_type": "stream",
     "text": [
      "[nltk_data] Downloading package stopwords to\n",
      "[nltk_data]     C:\\Users\\Nic\\AppData\\Roaming\\nltk_data...\n",
      "[nltk_data]   Package stopwords is already up-to-date!\n",
      "[nltk_data] Downloading package punkt to\n",
      "[nltk_data]     C:\\Users\\Nic\\AppData\\Roaming\\nltk_data...\n",
      "[nltk_data]   Package punkt is already up-to-date!\n"
     ]
    }
   ],
   "source": [
    "import re\n",
    "import nltk\n",
    "import string\n",
    "#nltk.download('stopwords')\n",
    "#nltk.download('punkt')\n",
    "from nltk import word_tokenize\n",
    "from nltk.corpus import stopwords\n",
    "from nltk.tokenize import RegexpTokenizer"
   ]
  },
  {
   "cell_type": "code",
   "execution_count": 251,
   "metadata": {},
   "outputs": [],
   "source": [
    "stop = set(stopwords.words('english'))\n",
    "\n",
    "post_prep_format = []\n",
    "\n",
    "for label, message in pre_prep_format:\n",
    "    processed_message = message.lower()\n",
    "    \n",
    "    tokenizer = RegexpTokenizer(r'\\w+')\n",
    "    tokens = tokenizer.tokenize(processed_message)\n",
    "    \n",
    "    filtered_words = filter(lambda token: token not in stopwords.words('english'), tokens)\n",
    "    \n",
    "    # Return\n",
    "    post_prep_format.append((label, ' '.join(filtered_words)))"
   ]
  },
  {
   "cell_type": "code",
   "execution_count": 252,
   "metadata": {},
   "outputs": [],
   "source": [
    "#print (pre_prep_format[50])"
   ]
  },
  {
   "cell_type": "code",
   "execution_count": 253,
   "metadata": {},
   "outputs": [],
   "source": [
    "#print (post_prep_format[50])"
   ]
  },
  {
   "cell_type": "code",
   "execution_count": 254,
   "metadata": {},
   "outputs": [],
   "source": [
    "df = pd.DataFrame(post_prep_format, columns=['label', 'message'])"
   ]
  },
  {
   "cell_type": "code",
   "execution_count": 255,
   "metadata": {},
   "outputs": [],
   "source": [
    "df_train = df[:round(df.shape[0] *.7)]\n",
    "df_test = df[round(df.shape[0] *.7):]"
   ]
  },
  {
   "cell_type": "code",
   "execution_count": 256,
   "metadata": {},
   "outputs": [],
   "source": [
    "from sklearn.feature_extraction.text import TfidfTransformer\n",
    "from sklearn.feature_extraction.text import CountVectorizer\n",
    "from sklearn.naive_bayes import MultinomialNB\n",
    "from sklearn.pipeline import Pipeline\n",
    "import numpy as np\n",
    "\n",
    "tfidf_transformer = TfidfTransformer()\n",
    "baseline_clf = Pipeline([('vect', CountVectorizer()),\n",
    "                         ('tfidf', TfidfTransformer()),\n",
    "                         ('clf', MultinomialNB()),\n",
    "])"
   ]
  },
  {
   "cell_type": "code",
   "execution_count": 257,
   "metadata": {},
   "outputs": [
    {
     "data": {
      "text/plain": [
       "Pipeline(memory=None,\n",
       "     steps=[('vect', CountVectorizer(analyzer='word', binary=False, decode_error='strict',\n",
       "        dtype=<class 'numpy.int64'>, encoding='utf-8', input='content',\n",
       "        lowercase=True, max_df=1.0, max_features=None, min_df=1,\n",
       "        ngram_range=(1, 1), preprocessor=None, stop_words=None,\n",
       "        strip...inear_tf=False, use_idf=True)), ('clf', MultinomialNB(alpha=1.0, class_prior=None, fit_prior=True))])"
      ]
     },
     "execution_count": 257,
     "metadata": {},
     "output_type": "execute_result"
    }
   ],
   "source": [
    "baseline_clf.fit(df_train['message'], df_train['label'])"
   ]
  },
  {
   "cell_type": "code",
   "execution_count": 258,
   "metadata": {},
   "outputs": [
    {
     "name": "stdout",
     "output_type": "stream",
     "text": [
      "Initial baseline accuracy: 0.8461538461538461\n"
     ]
    }
   ],
   "source": [
    "predicted = baseline_clf.predict(df_test['message'])\n",
    "print (\"Initial baseline accuracy: \" + str(np.mean(predicted == df_test['label'])))"
   ]
  },
  {
   "cell_type": "code",
   "execution_count": 259,
   "metadata": {},
   "outputs": [
    {
     "data": {
      "text/plain": [
       "array(['upward', 'upward', 'upward', 'upward', 'upward', 'upward',\n",
       "       'upward', 'upward', 'upward', 'upward', 'upward', 'upward',\n",
       "       'upward'], dtype='<U10')"
      ]
     },
     "execution_count": 259,
     "metadata": {},
     "output_type": "execute_result"
    }
   ],
   "source": [
    "predicted"
   ]
  },
  {
   "cell_type": "code",
   "execution_count": 260,
   "metadata": {},
   "outputs": [],
   "source": [
    "import keras\n",
    "from keras.models import Sequential\n",
    "from keras.layers import Dense, Activation"
   ]
  },
  {
   "cell_type": "code",
   "execution_count": 261,
   "metadata": {},
   "outputs": [],
   "source": [
    "model = Sequential()"
   ]
  },
  {
   "cell_type": "code",
   "execution_count": 262,
   "metadata": {},
   "outputs": [
    {
     "data": {
      "text/plain": [
       "(31,)"
      ]
     },
     "execution_count": 262,
     "metadata": {},
     "output_type": "execute_result"
    }
   ],
   "source": [
    "df_train['message'].shape"
   ]
  },
  {
   "cell_type": "code",
   "execution_count": 263,
   "metadata": {},
   "outputs": [],
   "source": [
    "word_count = set([])\n",
    "\n",
    "for message in df_train['message']:\n",
    "    word_count.add(message)"
   ]
  },
  {
   "cell_type": "code",
   "execution_count": 264,
   "metadata": {},
   "outputs": [
    {
     "data": {
      "text/plain": [
       "25"
      ]
     },
     "execution_count": 264,
     "metadata": {},
     "output_type": "execute_result"
    }
   ],
   "source": [
    "len(word_count)"
   ]
  },
  {
   "cell_type": "code",
   "execution_count": 265,
   "metadata": {},
   "outputs": [],
   "source": [
    "import pandas as pd\n",
    "import numpy as np\n",
    "import pickle\n",
    "from keras.preprocessing.text import Tokenizer\n",
    "from keras.models import Sequential\n",
    "from keras.layers import Activation, Dense, Dropout\n",
    "from sklearn.preprocessing import LabelBinarizer\n",
    "import sklearn.datasets as skds\n",
    "from pathlib import Path"
   ]
  },
  {
   "cell_type": "code",
   "execution_count": 266,
   "metadata": {},
   "outputs": [],
   "source": [
    "num_labels = 2\n",
    "vocab_size = 15000\n",
    "batch_size = 100\n",
    " \n",
    "# define Tokenizer with Vocab Size\n",
    "tokenizer = Tokenizer(num_words=vocab_size)\n",
    "tokenizer.fit_on_texts(df_train['message'])\n",
    " \n",
    "x_train = tokenizer.texts_to_matrix(df_train['message'], mode='tfidf')\n",
    "x_test = tokenizer.texts_to_matrix(df_test['message'], mode='tfidf')\n",
    " \n",
    "encoder = LabelBinarizer()\n",
    "encoder.fit(df_train['label'])\n",
    "y_train = encoder.transform(df_train['label'])\n",
    "y_test = encoder.transform(df_test['label'])"
   ]
  },
  {
   "cell_type": "code",
   "execution_count": 267,
   "metadata": {},
   "outputs": [
    {
     "name": "stdout",
     "output_type": "stream",
     "text": [
      "_________________________________________________________________\n",
      "Layer (type)                 Output Shape              Param #   \n",
      "=================================================================\n",
      "dense_10 (Dense)             (None, 512)               7680512   \n",
      "_________________________________________________________________\n",
      "activation_10 (Activation)   (None, 512)               0         \n",
      "_________________________________________________________________\n",
      "dropout_7 (Dropout)          (None, 512)               0         \n",
      "_________________________________________________________________\n",
      "dense_11 (Dense)             (None, 512)               262656    \n",
      "_________________________________________________________________\n",
      "activation_11 (Activation)   (None, 512)               0         \n",
      "_________________________________________________________________\n",
      "dropout_8 (Dropout)          (None, 512)               0         \n",
      "_________________________________________________________________\n",
      "dense_12 (Dense)             (None, 2)                 1026      \n",
      "_________________________________________________________________\n",
      "activation_12 (Activation)   (None, 2)                 0         \n",
      "=================================================================\n",
      "Total params: 7,944,194\n",
      "Trainable params: 7,944,194\n",
      "Non-trainable params: 0\n",
      "_________________________________________________________________\n",
      "Train on 27 samples, validate on 4 samples\n",
      "Epoch 1/30\n",
      "27/27 [==============================] - 2s 62ms/step - loss: 0.6984 - acc: 0.6667 - val_loss: 0.0088 - val_acc: 1.0000\n",
      "Epoch 2/30\n",
      "27/27 [==============================] - 0s 4ms/step - loss: 0.1502 - acc: 0.9630 - val_loss: 5.6334e-04 - val_acc: 1.0000\n",
      "Epoch 3/30\n",
      "27/27 [==============================] - 0s 5ms/step - loss: 0.0901 - acc: 0.9630 - val_loss: 5.1497e-05 - val_acc: 1.0000\n",
      "Epoch 4/30\n",
      "27/27 [==============================] - 0s 5ms/step - loss: 0.0599 - acc: 1.0000 - val_loss: 6.3181e-06 - val_acc: 1.0000\n",
      "Epoch 5/30\n",
      "27/27 [==============================] - 0s 5ms/step - loss: 0.0467 - acc: 1.0000 - val_loss: 8.3446e-07 - val_acc: 1.0000\n",
      "Epoch 6/30\n",
      "27/27 [==============================] - 0s 5ms/step - loss: 0.0405 - acc: 1.0000 - val_loss: 1.1921e-07 - val_acc: 1.0000\n",
      "Epoch 7/30\n",
      "27/27 [==============================] - 0s 5ms/step - loss: 0.0334 - acc: 1.0000 - val_loss: 1.1921e-07 - val_acc: 1.0000\n",
      "Epoch 8/30\n",
      "27/27 [==============================] - 0s 5ms/step - loss: 0.0248 - acc: 1.0000 - val_loss: 1.1921e-07 - val_acc: 1.0000\n",
      "Epoch 9/30\n",
      "27/27 [==============================] - 0s 5ms/step - loss: 0.0294 - acc: 1.0000 - val_loss: 1.1921e-07 - val_acc: 1.0000\n",
      "Epoch 10/30\n",
      "27/27 [==============================] - 0s 5ms/step - loss: 0.0194 - acc: 1.0000 - val_loss: 1.1921e-07 - val_acc: 1.0000\n",
      "Epoch 11/30\n",
      "27/27 [==============================] - 0s 5ms/step - loss: 0.0140 - acc: 1.0000 - val_loss: 1.1921e-07 - val_acc: 1.0000\n",
      "Epoch 12/30\n",
      "27/27 [==============================] - 0s 5ms/step - loss: 0.0132 - acc: 1.0000 - val_loss: 1.1921e-07 - val_acc: 1.0000\n",
      "Epoch 13/30\n",
      "27/27 [==============================] - 0s 5ms/step - loss: 0.0128 - acc: 1.0000 - val_loss: 1.1921e-07 - val_acc: 1.0000\n",
      "Epoch 14/30\n",
      "27/27 [==============================] - 0s 5ms/step - loss: 0.0097 - acc: 1.0000 - val_loss: 1.1921e-07 - val_acc: 1.0000\n",
      "Epoch 15/30\n",
      "27/27 [==============================] - 0s 5ms/step - loss: 0.0087 - acc: 1.0000 - val_loss: 1.1921e-07 - val_acc: 1.0000\n",
      "Epoch 16/30\n",
      "27/27 [==============================] - 0s 6ms/step - loss: 0.0083 - acc: 1.0000 - val_loss: 1.1921e-07 - val_acc: 1.0000\n",
      "Epoch 17/30\n",
      "27/27 [==============================] - 0s 5ms/step - loss: 0.0063 - acc: 1.0000 - val_loss: 1.1921e-07 - val_acc: 1.0000\n",
      "Epoch 18/30\n",
      "27/27 [==============================] - 0s 5ms/step - loss: 0.0045 - acc: 1.0000 - val_loss: 1.1921e-07 - val_acc: 1.0000\n",
      "Epoch 19/30\n",
      "27/27 [==============================] - 0s 5ms/step - loss: 0.0048 - acc: 1.0000 - val_loss: 1.1921e-07 - val_acc: 1.0000\n",
      "Epoch 20/30\n",
      "27/27 [==============================] - 0s 5ms/step - loss: 0.0049 - acc: 1.0000 - val_loss: 1.1921e-07 - val_acc: 1.0000\n",
      "Epoch 21/30\n",
      "27/27 [==============================] - 0s 5ms/step - loss: 0.0037 - acc: 1.0000 - val_loss: 1.1921e-07 - val_acc: 1.0000\n",
      "Epoch 22/30\n",
      "27/27 [==============================] - 0s 5ms/step - loss: 0.0029 - acc: 1.0000 - val_loss: 1.1921e-07 - val_acc: 1.0000\n",
      "Epoch 23/30\n",
      "27/27 [==============================] - 0s 5ms/step - loss: 0.0038 - acc: 1.0000 - val_loss: 1.1921e-07 - val_acc: 1.0000\n",
      "Epoch 24/30\n",
      "27/27 [==============================] - 0s 5ms/step - loss: 0.0029 - acc: 1.0000 - val_loss: 1.1921e-07 - val_acc: 1.0000\n",
      "Epoch 25/30\n",
      "27/27 [==============================] - 0s 5ms/step - loss: 0.0028 - acc: 1.0000 - val_loss: 1.1921e-07 - val_acc: 1.0000\n",
      "Epoch 26/30\n",
      "27/27 [==============================] - 0s 5ms/step - loss: 0.0014 - acc: 1.0000 - val_loss: 1.1921e-07 - val_acc: 1.0000\n",
      "Epoch 27/30\n",
      "27/27 [==============================] - 0s 5ms/step - loss: 0.0023 - acc: 1.0000 - val_loss: 1.1921e-07 - val_acc: 1.0000\n",
      "Epoch 28/30\n",
      "27/27 [==============================] - 0s 5ms/step - loss: 0.0023 - acc: 1.0000 - val_loss: 1.1921e-07 - val_acc: 1.0000\n",
      "Epoch 29/30\n",
      "27/27 [==============================] - 0s 5ms/step - loss: 0.0014 - acc: 1.0000 - val_loss: 1.1921e-07 - val_acc: 1.0000\n",
      "Epoch 30/30\n",
      "27/27 [==============================] - 0s 5ms/step - loss: 9.0732e-04 - acc: 1.0000 - val_loss: 1.1921e-07 - val_acc: 1.0000\n"
     ]
    }
   ],
   "source": [
    "model = Sequential()\n",
    "model.add(Dense(512, input_shape=(vocab_size,)))\n",
    "model.add(Activation('relu'))\n",
    "model.add(Dropout(0.3))\n",
    "model.add(Dense(512))\n",
    "model.add(Activation('relu'))\n",
    "model.add(Dropout(0.3))\n",
    "model.add(Dense(num_labels))\n",
    "model.add(Activation('softmax'))\n",
    "model.summary()\n",
    "\n",
    "model.compile(loss='sparse_categorical_crossentropy',\n",
    "              optimizer='adam',\n",
    "              metrics=['accuracy'])\n",
    "\n",
    "history = model.fit(x_train, y_train,\n",
    "                    batch_size=batch_size,\n",
    "                    epochs=30,\n",
    "                    verbose=1,\n",
    "                    validation_split=0.1)"
   ]
  },
  {
   "cell_type": "code",
   "execution_count": 268,
   "metadata": {},
   "outputs": [
    {
     "data": {
      "text/plain": [
       "<keras.callbacks.History at 0x23ac8543e10>"
      ]
     },
     "execution_count": 268,
     "metadata": {},
     "output_type": "execute_result"
    }
   ],
   "source": []
  },
  {
   "cell_type": "code",
   "execution_count": null,
   "metadata": {},
   "outputs": [],
   "source": []
  }
 ],
 "metadata": {
  "kernelspec": {
   "display_name": "Python 3",
   "language": "python",
   "name": "python3"
  },
  "language_info": {
   "codemirror_mode": {
    "name": "ipython",
    "version": 3
   },
   "file_extension": ".py",
   "mimetype": "text/x-python",
   "name": "python",
   "nbconvert_exporter": "python",
   "pygments_lexer": "ipython3",
   "version": "3.6.6"
  }
 },
 "nbformat": 4,
 "nbformat_minor": 2
}
